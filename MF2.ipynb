{
 "cells": [
  {
   "cell_type": "code",
   "execution_count": 6,
   "metadata": {},
   "outputs": [
    {
     "name": "stdout",
     "output_type": "stream",
     "text": [
      "-----MA TRẬN BAN ĐẦU-----\n",
      " [[1 3 5 5 0]\n",
      " [3 0 0 4 2]\n",
      " [5 1 0 5 3]]\n",
      "-----MA TRẬN DỰ ĐOÁN-----\n",
      " [[1.01312778 2.98601568 4.98853507 4.98276426 1.39201696]\n",
      " [2.99354739 1.29482619 3.77581494 3.98877643 1.99525039]\n",
      " [4.9745933  1.0012395  4.59898384 4.9880284  2.99200054]]\n",
      "----------------------------------------------------\n",
      "-----MA TRẬN DỰ ĐOÁN LÀM TRÒN-----\n",
      " [[1. 3. 5. 5. 1.]\n",
      " [3. 1. 4. 4. 2.]\n",
      " [5. 1. 5. 5. 3.]]\n"
     ]
    }
   ],
   "source": [
    "import pandas as pd\n",
    "import numpy as np\n",
    "import math\n",
    "M = np.array([[1,3,5,5,0],\n",
    "              [3,0,0,4,2],\n",
    "              [5,1,0,5,3]])\n",
    "print(\"-----MA TRẬN BAN ĐẦU-----\\n\",M)\n",
    "\n",
    "def matr(A,K,ite,b,lamda):\n",
    "    #khoi tao ma tran W,H                    \n",
    "    U = A.shape[0] #columns\n",
    "   \n",
    "    I = A.shape[1] #rows\n",
    "    W = np.random.randn(U,K)\n",
    "    H = np.random.randn(K,I)\n",
    "    for j in range(ite):\n",
    "        for u in range(U):\n",
    "            for i in range(I):\n",
    "                if (A[u,i]>0):\n",
    "                    r_bav=0\n",
    "                    for k in range (K):\n",
    "                        r_bav = r_bav + np.dot(W[u,k],H[k,i]);\n",
    "                    e = A[u,i] - r_bav\n",
    "                    for k in range (K):\n",
    "                        W[u,k] +=  2*b*(e * H[k,i] - lamda*W[u,k])\n",
    "                        H[k,i] +=  2*b*(e * W[u,k] -lamda*H[k,i])             \n",
    "    return np.dot(W,H)\n",
    "v = matr(M,2,1000, 0.01,0.01);\n",
    "\n",
    "print(\"-----MA TRẬN DỰ ĐOÁN-----\\n\",v)\n",
    "print(\"----------------------------------------------------\")\n",
    "print(\"-----MA TRẬN DỰ ĐOÁN LÀM TRÒN-----\\n\",np.around(v))\n",
    "                "
   ]
  },
  {
   "cell_type": "code",
   "execution_count": null,
   "metadata": {},
   "outputs": [],
   "source": []
  }
 ],
 "metadata": {
  "kernelspec": {
   "display_name": "Python 3",
   "language": "python",
   "name": "python3"
  },
  "language_info": {
   "codemirror_mode": {
    "name": "ipython",
    "version": 3
   },
   "file_extension": ".py",
   "mimetype": "text/x-python",
   "name": "python",
   "nbconvert_exporter": "python",
   "pygments_lexer": "ipython3",
   "version": "3.7.6"
  }
 },
 "nbformat": 4,
 "nbformat_minor": 4
}
